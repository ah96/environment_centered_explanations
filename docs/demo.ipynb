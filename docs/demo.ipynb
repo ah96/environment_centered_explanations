{
 "cells": [
  {
   "cell_type": "markdown",
   "id": "e556a14d",
   "metadata": {},
   "source": [
    "\n",
    "# Quick Start Demo: Environment-Centered Explanations (LIME · SHAP · COSE)\n",
    "\n",
    "This notebook gives you a **5-minute, minimal demo** that:\n",
    "1. Generates a tiny grid environment\n",
    "2. Runs one classical planner (**A\\***)\n",
    "3. Produces environment-centered explanations with **LIME**, **SHAP**, and **COSE**\n",
    "4. Renders example figures and previews evaluation CSVs\n",
    "\n",
    "> **Prerequisites**\n",
    "> - You have cloned this repo locally\n",
    "> - You have installed dependencies: `pip install -r requirements.txt`\n",
    "> - You can run the CLI modules in `cli/` (e.g., `python -m cli.run_eval --help`)\n",
    "\n",
    "If your repository lives elsewhere, update `REPO_DIR` below.\n"
   ]
  },
  {
   "cell_type": "code",
   "execution_count": null,
   "id": "c281bf61",
   "metadata": {},
   "outputs": [],
   "source": [
    "\n",
    "import os, sys, glob, subprocess, json\n",
    "from pathlib import Path\n",
    "\n",
    "# ---- Configure paths ----\n",
    "REPO_DIR = Path.cwd()  # change this if needed\n",
    "RESULTS_DIR = REPO_DIR / \"results\" / \"quickstart\"\n",
    "ENVS_DIR = RESULTS_DIR / \"envs\"\n",
    "CSV_DIR = RESULTS_DIR / \"csv\"\n",
    "FIGS_DIR = RESULTS_DIR / \"figs\"\n",
    "\n",
    "for d in (RESULTS_DIR, ENVS_DIR, CSV_DIR, FIGS_DIR):\n",
    "    d.mkdir(parents=True, exist_ok=True)\n",
    "\n",
    "print(\"Repository:\", REPO_DIR)\n",
    "print(\"Results dir:\", RESULTS_DIR)\n"
   ]
  },
  {
   "cell_type": "markdown",
   "id": "23b78196",
   "metadata": {},
   "source": [
    "## 1) Generate a tiny environment"
   ]
  },
  {
   "cell_type": "code",
   "execution_count": null,
   "id": "770d4284",
   "metadata": {},
   "outputs": [],
   "source": [
    "\n",
    "# We generate just a couple of tiny environments for a fast demo.\n",
    "# Adjust sizes/densities if your CLI expects different flags.\n",
    "cmd = [\n",
    "    sys.executable, \"-m\", \"cli.generate_envs\",\n",
    "    \"--outdir\", str(ENVS_DIR),\n",
    "    \"--sizes\", \"20\",\n",
    "    \"--densities\", \"0.2\",\n",
    "    \"--n-per-config\", \"2\"\n",
    "]\n",
    "print(\"Running:\", \" \".join(cmd))\n",
    "subprocess.run(cmd, check=True)\n",
    "print(\"Done. Files:\", len(glob.glob(str(ENVS_DIR / \"E_*.npz\"))))\n"
   ]
  },
  {
   "cell_type": "markdown",
   "id": "30f96178",
   "metadata": {},
   "source": [
    "## 2) Run a tiny evaluation (A*, LIME, SHAP, COSE)"
   ]
  },
  {
   "cell_type": "code",
   "execution_count": null,
   "id": "bc5dc9ff",
   "metadata": {},
   "outputs": [],
   "source": [
    "\n",
    "# We pick a single planner and three explainers to keep this fast.\n",
    "# If your run_eval supports limiting the number of envs, keep it tiny.\n",
    "env_glob = str(ENVS_DIR / \"E_*.npz\")\n",
    "cmd = [\n",
    "    sys.executable, \"-m\", \"cli.run_eval\",\n",
    "    \"--env-glob\", env_glob,\n",
    "    \"--planners\", \"a_star\",\n",
    "    \"--explainers\", \"lime\", \"shap\", \"cose\",\n",
    "    \"--outdir\", str(CSV_DIR),\n",
    "]\n",
    "print(\"Running:\", \" \".join(cmd))\n",
    "subprocess.run(cmd, check=True)\n",
    "print(\"Done. CSV files:\", len(glob.glob(str(CSV_DIR / \"eval_*.csv\"))))\n"
   ]
  },
  {
   "cell_type": "markdown",
   "id": "d20d1ced",
   "metadata": {},
   "source": [
    "## 3) Make figures"
   ]
  },
  {
   "cell_type": "code",
   "execution_count": null,
   "id": "7f01da4b",
   "metadata": {},
   "outputs": [],
   "source": [
    "\n",
    "cmd = [\n",
    "    sys.executable, \"-m\", \"cli.make_figs\",\n",
    "    \"--eval-glob\", str(CSV_DIR / \"eval_*.csv\"),\n",
    "    \"--outdir\", str(FIGS_DIR),\n",
    "]\n",
    "print(\"Running:\", \" \".join(cmd))\n",
    "subprocess.run(cmd, check=True)\n",
    "print(\"Wrote figures to:\", FIGS_DIR)\n"
   ]
  },
  {
   "cell_type": "markdown",
   "id": "0363890d",
   "metadata": {},
   "source": [
    "## 4) Preview evaluation CSVs"
   ]
  },
  {
   "cell_type": "code",
   "execution_count": null,
   "id": "bfc14f91",
   "metadata": {},
   "outputs": [],
   "source": [
    "\n",
    "import pandas as pd\n",
    "csv_files = sorted(glob.glob(str(CSV_DIR / \"eval_*.csv\")))\n",
    "if not csv_files:\n",
    "    raise SystemExit(\"No CSVs found. Check the previous steps' output.\")\n",
    "\n",
    "df = pd.concat([pd.read_csv(p) for p in csv_files], ignore_index=True)\n",
    "print(\"Rows:\", len(df), \"| Columns:\", list(df.columns))\n",
    "df.head(20)\n"
   ]
  },
  {
   "cell_type": "markdown",
   "id": "1b8f0aeb",
   "metadata": {},
   "source": [
    "## 5) Display generated figures (if available)"
   ]
  },
  {
   "cell_type": "code",
   "execution_count": null,
   "id": "27802863",
   "metadata": {},
   "outputs": [],
   "source": [
    "\n",
    "from IPython.display import display, Image\n",
    "\n",
    "figure_patterns = [\n",
    "    \"q1_success_at_k.pdf\",\n",
    "    \"q2_min_set_size*.pdf\",\n",
    "    \"q2_min_set_size_violin.pdf\",\n",
    "    \"q3_*.pdf\",\n",
    "    \"*.png\",\n",
    "    \"*.pdf\",\n",
    "]\n",
    "found = []\n",
    "for pat in figure_patterns:\n",
    "    found += glob.glob(str(FIGS_DIR / pat))\n",
    "\n",
    "if not found:\n",
    "    print(\"No figures found in\", FIGS_DIR)\n",
    "else:\n",
    "    print(\"Showing up to 8 figures...\")\n",
    "    for i, p in enumerate(sorted(found)[:8]):\n",
    "        print(p)\n",
    "        display(Image(filename=p) if p.lower().endswith((\".png\", \".jpg\", \".jpeg\")) else p)\n"
   ]
  },
  {
   "cell_type": "markdown",
   "id": "5d3100ba",
   "metadata": {},
   "source": [
    "\n",
    "---\n",
    "\n",
    "### Troubleshooting\n",
    "\n",
    "- **Module not found**: Ensure you're running the notebook from the repo root or add `REPO_DIR` to `sys.path`.\n",
    "- **CLI signature mismatch**: Your local CLI flags may differ. Run `python -m cli.generate_envs --help`, `python -m cli.run_eval --help`, and `python -m cli.make_figs --help` and adjust arguments.\n",
    "- **No figures produced**: Some figures require specific datasets. Start with `q1_success_at_k` and `q2_min_set_size` outputs, or reduce the environment count.\n",
    "- **Performance**: This demo is intentionally small. For the full paper-scale evaluation, increase `--sizes`, `--densities`, and number of environments.\n",
    "\n",
    "---\n",
    "\n",
    "### Next Steps\n",
    "\n",
    "- Explore `results/quickstart/csv/` for metric CSVs.\n",
    "- Inspect `results/quickstart/figs/` for figures used in the paper.\n",
    "- Extend planners (`--planners a_star dijkstra ...`) and affordances; add robustness and faithfulness analyses.\n"
   ]
  }
 ],
 "metadata": {},
 "nbformat": 4,
 "nbformat_minor": 5
}
